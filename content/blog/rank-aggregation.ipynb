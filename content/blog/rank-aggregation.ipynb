 {
 "metadata": {
  "name": ""
 },
 "nbformat": 3,
 "nbformat_minor": 0,
 "worksheets": [
  {
   "cells": [
    {
     "cell_type": "markdown",
     "metadata": {},
     "source": [
      "Rank aggregation is a problem with many important applications and naive approaches to it go wrong in subtle ways.\n",
      "\n",
      "Let's say that your national Quidditch league is dominated by five major wizard sports newspapers. Yes, the ones with moving images and everything.  Every week after the games, each of them publishes a ranking of the star players.  For now, let's suppose that the set of players under investigation is always the same, as the problem becomes a bit more complicated otherwise.\n",
      "\n",
      "**The Athletic Wizard**: Alicia Spinnet, Ginny Weasley, Gwendolyn Morgan, Robin Higgy, Debbie Muntz <br/>\n",
      "**The Daily Prophet**: Alicia, Ginny, Robin, Gwendolyn, Debbie <br/>\n",
      "**Quidditch News**: Robin, Ginny, Gwendolyn, Debbie, Alicia <br/>\n",
      "**Seeker Weekly**: Gwendolyn, Ginny, Robin, Debbie, Alicia <br/>\n",
      "**The Quibbler**: Debbie, Ginny, Robin, Gwendolyn, Alicia <br/>\n",
      "\n",
      "As you can see, there's quite a bit of disagreement and personal taste involved. You didn't get to watch all of the games, but you'd like to make a decision on who the best players were, by somehow aggregating the opinions of the popular newspapers.  An easy option would be to pretend that each newspaper *votes* for the player that they rank #1, and ignore the rest.  As Alicia Spinnet is the only player getting *two* nominations for best player, she should win best player, right?\n",
      "\n",
      "Upon closer inspection, Alicia seems very controversial, loved by two but hated by five of the newspaper.  Ginny, on the other hand, didn't stand out as best player to anybody, but she was *uniformly* considered runner-up.  There should be some way to account for this. It would be nice if we would have a method of finding an *optimal* ranking that maximizes some sort of agreement with the opinions we are trying to aggregate.\n",
      "\n",
      "## Kendall's Tau distance\n",
      "\n",
      "One of the most interesting ways to measure disagreement between rankings is the Tau statistic introduced by Kendall.  It essentially measures the number of pairwise disagreements between two rankings.  Since you can think of it as the number of flips you need to perform on a ranking to turn it into the other, it is sometimes called *bubble-sort distance*.\n",
      "\n",
      "While the closely-related Tau correlation coefficient is implemented in Scipy as [`scipy.stats.kendalltau`](http://docs.scipy.org/doc/scipy/reference/generated/scipy.stats.kendalltau.html), let's code it ourselves in a simpler way."
     ]
    },
    {
     "cell_type": "code",
     "collapsed": false,
     "input": [
      "from __future__ import print_function\n",
      "import numpy as np\n",
      "from itertools import combinations, permutations\n",
      "\n",
      "def kendalltau_dist(rank_a, rank_b):\n",
      "    tau = 0\n",
      "    n_candidates = len(rank_a)\n",
      "    for i, j in combinations(range(n_candidates), 2):\n",
      "        tau += (np.sign(rank_a[i] - rank_a[j]) ==\n",
      "                -np.sign(rank_b[i] - rank_b[j]))\n",
      "    return tau"
     ],
     "language": "python",
     "metadata": {},
     "outputs": [],
     "prompt_number": 1
    },
    {
     "cell_type": "markdown",
     "metadata": {},
     "source": [
      "Now we can represent a rank as a numpy vector, with missing values."
     ]
    },
    {
     "cell_type": "code",
     "collapsed": false,
     "input": [
      "# columns in order of appearance:\n",
      "cols = \"Alicia Ginny Gwendolyn Robin Debbie\".split()\n",
      "ranks = np.array([[0, 1, 2, 3, 4],\n",
      "                  [0, 1, 3, 2, 4],\n",
      "                  [4, 1, 2, 0, 3],\n",
      "                  [4, 1, 0, 2, 3],\n",
      "                  [4, 1, 3, 2, 0]])"
     ],
     "language": "python",
     "metadata": {},
     "outputs": [],
     "prompt_number": 2
    },
    {
     "cell_type": "markdown",
     "metadata": {},
     "source": [
      "Two rankings that agree completely should have a distance of 0."
     ]
    },
    {
     "cell_type": "code",
     "collapsed": false,
     "input": [
      "kendalltau_dist(ranks[0], ranks[0])"
     ],
     "language": "python",
     "metadata": {},
     "outputs": [
      {
       "metadata": {},
       "output_type": "pyout",
       "prompt_number": 3,
       "text": [
        "0"
       ]
      }
     ],
     "prompt_number": 3
    },
    {
     "cell_type": "markdown",
     "metadata": {},
     "source": [
      "The Athletic Wizard seems to be closer to the Daily Prophet than to Seeker Weekly."
     ]
    },
    {
     "cell_type": "code",
     "collapsed": false,
     "input": [
      "print('d(athletic_wizard, prophet) = {}'.format(kendalltau_dist(ranks[0], ranks[1])))\n",
      "print('d(athletic_wizard, seeker) = {}'.format(kendalltau_dist(ranks[0], ranks[3])))"
     ],
     "language": "python",
     "metadata": {},
     "outputs": [
      {
       "output_type": "stream",
       "stream": "stdout",
       "text": [
        "d(athletic_wizard, prophet) = 1\n",
        "d(athletic_wizard, seeker) = 5\n"
       ]
      }
     ],
     "prompt_number": 4
    },
    {
     "cell_type": "markdown",
     "metadata": {},
     "source": [
      "## Kemeny-Young rank aggregation\n",
      "\n",
      "Now that we have a distance metric, we can formulate a loss function to minimize in rank-space.\n",
      "We are looking for a ranking $\\hat\\tau$ that satisfies\n",
      "$$ \\sum_i d(\\hat\\tau, \\tau_i) \\leq \\sum_i d(\\tau, \\tau_i) \\text{ for all } \\tau $$\n",
      "\n",
      "This aggregation method was proposed by John Kemeny \\[[1](#note1)\\], and later shown by Peyton Young to be a maximum likelihood estimator of pairwise preferences under the assumption that a voter will randomly flip two candidates from the *true* ranking is the same $p < 0.5$ \\[[2](#note2)\\].\n",
      "\n",
      "For rankings of small length, one way to compute this optimal aggregation is by comparing the scores of all possible rankings, in other words, a **brute-force** approach:\n"
     ]
    },
    {
     "cell_type": "code",
     "collapsed": false,
     "input": [
      "def rankaggr_brute(ranks):\n",
      "    min_dist = np.inf\n",
      "    best_rank = None\n",
      "    n_voters, n_candidates = ranks.shape\n",
      "    for candidate_rank in permutations(range(n_candidates)):\n",
      "        dist = np.sum(kendalltau_dist(candidate_rank, rank) for rank in ranks)\n",
      "        if dist < min_dist:\n",
      "            min_dist = dist\n",
      "            best_rank = candidate_rank\n",
      "    return min_dist, best_rank"
     ],
     "language": "python",
     "metadata": {},
     "outputs": [],
     "prompt_number": 5
    },
    {
     "cell_type": "code",
     "collapsed": false,
     "input": [
      "dist, aggr = rankaggr_brute(ranks)\n",
      "print(\"A Kemeny-Young aggregation with score {} is: {}\".format(\n",
      "    dist,\n",
      "    \", \".join(cols[i] for i in np.argsort(aggr))))"
     ],
     "language": "python",
     "metadata": {},
     "outputs": [
      {
       "output_type": "stream",
       "stream": "stdout",
       "text": [
        "A Kemeny-Young aggregation with score 15 is: Ginny, Robin, Gwendolyn, Debbie, Alicia\n"
       ]
      }
     ],
     "prompt_number": 6
    },
    {
     "cell_type": "markdown",
     "metadata": {},
     "source": [
      "## Integer Programming formulation\n",
      "\n",
      "The brute-force approach is, as you can see, simple to understand and quick to code. However, the number of total ranks of size $n$ is $n!$, so this approach quickly becomes infeasible for real-world problems.  Unfortunately, it turns out that this problem (along with many related problems in rank-world) is NP-hard even for only four voters \\[[3](#note3)\\]. There have been quite a few approaches and approximations. In many cases, such as search results aggregation, approximations are good enough.  For the cases where an exact solution is required, a formulation as a constrained integer program is given in \\[[4](#note4)\\].\n",
      "\n",
      "We build a weighted directed graph $G = (V, E)$ with the candidates as vertices.  The edges are defined as such: for every pair of candidates $i, j$, let $\\#\\{i > j\\}$ denote the number of voters who rank $i$ higher than $j$.  Draw an edge $e$ between each $i, j$ with weight $w_e = |\\#\\{i > j\\} - \\#\\{j > i\\}|$ (if nonzero, of course). The orientation of the edge is from the less preferred to the more preferred node.\n",
      "\n",
      "The formulation is based on the alternative interpretation of the Kemeny optimal aggregation as the ranking that minimizes the weights of edges it disagrees with:\n",
      "\n",
      "$$\n",
      "\\operatorname{minimize} \\sum_{e \\in E} w_e x_e \\\\\n",
      "\\text{subject to} \\\\\n",
      "\\forall i \\neq j \\in V, x_{ij} + x_{ji} = 1 \\\\\n",
      "\\forall i \\neq j \\neq k \\neq i \\in V, x_{ij} + x_{jk} + x_{ki} \\geq 1\n",
      "$$\n",
      "\n",
      "In the above problem, all variables are integer, and effectively binary under the other constraints.  The interpretation is that $x_{ij} = 1$ if, in the aggregated rank, $i$ is ranked lower than $j$.\n",
      "\n",
      "The constraints essentially impose that the variables define a total order. The first set of constraints enforce antisymmetry and totality: either $i$ is ranked lower than $j$ or the other way around. The second set of constraints enforce transitivity.  "
     ]
    },
    {
     "cell_type": "code",
     "collapsed": false,
     "input": [
      "def _build_graph(ranks):\n",
      "    n_voters, n_candidates = ranks.shape\n",
      "    edge_weights = np.zeros((n_candidates, n_candidates))\n",
      "    for i, j in combinations(range(n_candidates), 2):\n",
      "        preference = ranks[:, i] - ranks[:, j]\n",
      "        h_ij = np.sum(preference < 0)  # prefers i to j\n",
      "        h_ji = np.sum(preference > 0)  # prefers j to i\n",
      "        if h_ij > h_ji:\n",
      "            edge_weights[i, j] = h_ij - h_ji\n",
      "        elif h_ij < h_ji:\n",
      "            edge_weights[j, i] = h_ji - h_ij\n",
      "    return edge_weights\n",
      "\n",
      "print(_build_graph(ranks))"
     ],
     "language": "python",
     "metadata": {},
     "outputs": [
      {
       "output_type": "stream",
       "stream": "stdout",
       "text": [
        "[[ 0.  0.  0.  0.  0.]\n",
        " [ 1.  0.  3.  3.  3.]\n",
        " [ 1.  0.  0.  0.  3.]\n",
        " [ 1.  0.  1.  0.  3.]\n",
        " [ 1.  0.  0.  0.  0.]]\n"
       ]
      }
     ],
     "prompt_number": 7
    },
    {
     "cell_type": "markdown",
     "metadata": {},
     "source": [
      "Now, let's solve the linear program with the LGPL-licensed [`lpsolve`](http://sourceforge.net/projects/lpsolve/). It conveniently comes with a Python interface."
     ]
    },
    {
     "cell_type": "code",
     "collapsed": false,
     "input": [
      "from lp_solve import lp_solve\n",
      "\n",
      "def rankaggr_lp(ranks):\n",
      "    \"\"\"Kemeny-Young optimal rank aggregation\"\"\"\n",
      "\n",
      "    n_voters, n_candidates = ranks.shape\n",
      "    \n",
      "    # maximize c.T * x\n",
      "    edge_weights = _build_graph(ranks)\n",
      "    c = -1 * edge_weights.ravel()  \n",
      "\n",
      "    idx = lambda i, j: n_candidates * i + j\n",
      "\n",
      "    # constraints for every pair\n",
      "    pairwise_constraints = np.zeros(((n_candidates * (n_candidates - 1)) / 2,\n",
      "                                     n_candidates ** 2))\n",
      "    for row, (i, j) in zip(pairwise_constraints,\n",
      "                           combinations(range(n_candidates), 2)):\n",
      "        row[[idx(i, j), idx(j, i)]] = 1\n",
      "\n",
      "    # and for every cycle of length 3\n",
      "    triangle_constraints = np.zeros(((n_candidates * (n_candidates - 1) *\n",
      "                                     (n_candidates - 2)),\n",
      "                                     n_candidates ** 2))\n",
      "    for row, (i, j, k) in zip(triangle_constraints,\n",
      "                              permutations(range(n_candidates), 3)):\n",
      "        row[[idx(i, j), idx(j, k), idx(k, i)]] = 1\n",
      "\n",
      "    constraints = np.vstack([pairwise_constraints, triangle_constraints])\n",
      "    constraint_rhs = np.hstack([np.ones(len(pairwise_constraints)),\n",
      "                                np.ones(len(triangle_constraints))])\n",
      "    constraint_signs = np.hstack([np.zeros(len(pairwise_constraints)),  # ==\n",
      "                                  np.ones(len(triangle_constraints))])  # >=\n",
      "\n",
      "    obj, x, duals = lp_solve(c, constraints, constraint_rhs, constraint_signs,\n",
      "                             xint=range(1, 1 + n_candidates ** 2))\n",
      "\n",
      "    x = np.array(x).reshape((n_candidates, n_candidates))\n",
      "    aggr_rank = x.sum(axis=1)\n",
      "\n",
      "    return obj, aggr_rank"
     ],
     "language": "python",
     "metadata": {},
     "outputs": [],
     "prompt_number": 8
    },
    {
     "cell_type": "code",
     "collapsed": false,
     "input": [
      "_, aggr = rankaggr_lp(ranks)\n",
      "score = np.sum(kendalltau_dist(aggr, rank) for rank in ranks)\n",
      "print(\"A Kemeny-Young aggregation with score {} is: {}\".format(\n",
      "    score,\n",
      "    \", \".join(cols[i] for i in np.argsort(aggr))))"
     ],
     "language": "python",
     "metadata": {},
     "outputs": [
      {
       "output_type": "stream",
       "stream": "stdout",
       "text": [
        "A Kemeny-Young aggregation with score 15 is: Ginny, Robin, Gwendolyn, Debbie, Alicia\n"
       ]
      }
     ],
     "prompt_number": 9
    },
    {
     "cell_type": "markdown",
     "metadata": {},
     "source": [
      "We get the same result as in the brute-force case.  However, it's much faster. Let's verify this, and in the process, also test that we always get the same result."
     ]
    },
    {
     "cell_type": "code",
     "collapsed": false,
     "input": [
      "from time import time\n",
      "import pandas as pd\n",
      "\n",
      "timings = pd.DataFrame(columns=\"method rank_len n_ranks time\".split())\n",
      "np.random.seed(0)\n",
      "for rank_len in range(4, 9):\n",
      "    for n_ranks in (5, 20):\n",
      "        ranks = [np.random.permutation(rank_len) for _ in range(n_ranks)]\n",
      "        ranks = np.array(ranks)\n",
      "        t0 = time()\n",
      "        brute_score, brute_aggr = rankaggr_brute(ranks)\n",
      "        timings = timings.append(dict(method=\"brute\",\n",
      "                                      rank_len=rank_len,\n",
      "                                      n_ranks=n_ranks,\n",
      "                                      time=time() - t0),\n",
      "                                 ignore_index=True)\n",
      "        t0 = time()\n",
      "        _, lp_aggr = rankaggr_lp(ranks)\n",
      "        timings = timings.append(dict(method=\"lp\",\n",
      "                                      rank_len=rank_len,\n",
      "                                      n_ranks=n_ranks,\n",
      "                                      time=time() - t0),\n",
      "                                 ignore_index=True)\n",
      "        assert (brute_score ==\n",
      "                np.sum(kendalltau_dist(lp_aggr, rank) for rank in ranks))\n",
      "\n",
      "# lp is much faster, let's run it for longer rankings.\n",
      "for rank_len in range(9, 16):\n",
      "    for n_ranks in (5, 20):\n",
      "        t0 = time()\n",
      "        _, lp_aggr = rankaggr_lp(ranks)\n",
      "        timings = timings.append(dict(method=\"lp\",\n",
      "                                      rank_len=rank_len,\n",
      "                                      n_ranks=n_ranks,\n",
      "                                      time=time() - t0),\n",
      "                                 ignore_index=True)"
     ],
     "language": "python",
     "metadata": {},
     "outputs": [],
     "prompt_number": 10
    },
    {
     "cell_type": "code",
     "collapsed": false,
     "input": [
      "%matplotlib inline\n",
      "import matplotlib.pyplot as plt\n",
      "import seaborn as sns\n",
      "\n",
      "plt.figure(figsize=(7, 6))\n",
      "plt.xticks(range(4, 16), range(4, 16))\n",
      "for subplot, n_ranks in enumerate((5, 20)):\n",
      "    for method in ('brute', 'lp'):\n",
      "        this_rows = timings[(timings.n_ranks == n_ranks) &\n",
      "                            (timings.method == method)]\n",
      "        plt.semilogy(this_rows.rank_len, this_rows.time,\n",
      "                     label=\"{} n={}\".format(method, n_ranks))\n",
      "plt.legend(loc=\"upper left\")\n",
      "plt.suptitle(\"Ranking size vs. log time to solve\")\n",
      "plt.show()"
     ],
     "language": "python",
     "metadata": {},
     "outputs": [
      {
       "metadata": {},
       "output_type": "display_data",
       "png": "[encoded data removed]",
       "text": [
        "<matplotlib.figure.Figure at 0x1048dd810>"
       ]
      }
     ],
     "prompt_number": 11
    },
    {
     "cell_type": "markdown",
     "metadata": {},
     "source": [
      "You can see that the brute force approach is a bit worse than exponential, while the integer programming approach is more reasonable and also is less sensitive to the number of voters being aggregated.  We therefore have a reasonably fast efficient exact solution to the rank aggregation problem on small datasets.\n",
      "\n",
      "### References\n",
      "<span id=\"note1\"> [1] J Kemeny. [Mathematics without numbers](http://www.jstor.org/stable/10.2307/20026529), 1959 <br /> </span>\n",
      "<span id=\"note2\"> [2] HP Young. [Condorcet's theory of voting](http://www.jstor.org/stable/10.2307/1961757), 1988 <br />\n",
      "</span><span id=\"note3\"> \n",
      "[3] JJ Bartholdi III, CA Tovey, MA Trick. [The computational difficulty of manipulating an election](http://link.springer.com/article/10.1007/BF00295861), 1989 <br />\n",
      "</span><span id=\"note4\"> \n",
      "[4] V Conitzer, A Davenport, J Kalagnanam. [Improved bounds for computing Kemeny rankings](http://www.aaai.org/Papers/AAAI/2006/AAAI06-099.pdf), 2006\n",
      "</span>\n"
     ]
    }
   ],
   "metadata": {}
  }
 ]
}
